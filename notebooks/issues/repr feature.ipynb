{
 "cells": [
  {
   "cell_type": "code",
   "execution_count": 1,
   "metadata": {
    "collapsed": true
   },
   "outputs": [],
   "source": [
    "import lasio"
   ]
  },
  {
   "cell_type": "code",
   "execution_count": 2,
   "metadata": {
    "collapsed": false
   },
   "outputs": [],
   "source": [
    "l = lasio.read(r'D:\\personal\\code\\lasio\\tests\\examples\\sample.las')"
   ]
  },
  {
   "cell_type": "code",
   "execution_count": 3,
   "metadata": {
    "collapsed": false
   },
   "outputs": [
    {
     "name": "stdout",
     "output_type": "stream",
     "text": [
      "<lasio.las.LASFile object at 0x0000000009871F28>\n"
     ]
    }
   ],
   "source": [
    "print l.__repr__()"
   ]
  },
  {
   "cell_type": "code",
   "execution_count": 4,
   "metadata": {
    "collapsed": false
   },
   "outputs": [
    {
     "name": "stdout",
     "output_type": "stream",
     "text": [
      "<lasio.las.LASFile object at 0x0000000009871F28>\n"
     ]
    }
   ],
   "source": [
    "print l.__str__()"
   ]
  },
  {
   "cell_type": "markdown",
   "metadata": {},
   "source": [
    "``l._repr_html() ``"
   ]
  },
  {
   "cell_type": "code",
   "execution_count": 5,
   "metadata": {
    "collapsed": false
   },
   "outputs": [
    {
     "data": {
      "text/plain": [
       "<lasio.las.LASFile at 0x9871f28>"
      ]
     },
     "execution_count": 5,
     "metadata": {},
     "output_type": "execute_result"
    }
   ],
   "source": [
    "l"
   ]
  },
  {
   "cell_type": "code",
   "execution_count": 6,
   "metadata": {
    "collapsed": false
   },
   "outputs": [
    {
     "name": "stdout",
     "output_type": "stream",
     "text": [
      "Mnemonic  Unit  Value  Description             \n",
      "--------  ----  -----  -----------             \n",
      "DEPT      M            1  DEPTH                \n",
      "DT        US/M         2  SONIC TRANSIT TIME   \n",
      "RHOB      K/M3         3  BULK DENSITY         \n",
      "NPHI      V/V          4   NEUTRON POROSITY    \n",
      "SFLU      OHMM         5  RXO RESISTIVITY      \n",
      "SFLA      OHMM         6  SHALLOW RESISTIVITY  \n",
      "ILM       OHMM         7  MEDIUM RESISTIVITY   \n",
      "ILD       OHMM         8  DEEP RESISTIVITY     \n"
     ]
    }
   ],
   "source": [
    "print l.curves"
   ]
  },
  {
   "cell_type": "code",
   "execution_count": 7,
   "metadata": {
    "collapsed": false
   },
   "outputs": [
    {
     "name": "stdout",
     "output_type": "stream",
     "text": [
      "['Parameter', 'Version', 'Well', 'Other', 'Curves']\n"
     ]
    }
   ],
   "source": [
    "print l.sections.keys()"
   ]
  },
  {
   "cell_type": "code",
   "execution_count": 8,
   "metadata": {
    "collapsed": false
   },
   "outputs": [
    {
     "name": "stdout",
     "output_type": "stream",
     "text": [
      "Mnemonic  Unit  Value                     Description      \n",
      "--------  ----  -----                     -----------      \n",
      "STRT      M     1670.0                                     \n",
      "STOP      M     1660.0                                     \n",
      "STEP      M     -0.125                                     \n",
      "NULL            -999.25                                    \n",
      "COMP            # ANY OIL COMPANY LTD.    COMPANY          \n",
      "WELL            ANY ET AL OIL WELL #12    WELL             \n",
      "FLD             EDAM                      FIELD            \n",
      "LOC             A9-16-49-20W3M            LOCATION         \n",
      "PROV            SASKATCHEWAN              PROVINCE         \n",
      "SRVC            ANY LOGGING COMPANY LTD.  SERVICE COMPANY  \n",
      "DATE            25-DEC-1988               LOG DATE         \n",
      "UWI             100091604920W300          UNIQUE WELL ID   \n"
     ]
    }
   ],
   "source": [
    "print l.sections['Well']"
   ]
  },
  {
   "cell_type": "code",
   "execution_count": 10,
   "metadata": {
    "collapsed": false
   },
   "outputs": [
    {
     "name": "stdout",
     "output_type": "stream",
     "text": [
      "Mnemonic  Unit  Value   Description                           \n",
      "--------  ----  -----   -----------                           \n",
      "BHT       DEGC  35.5    BOTTOM HOLE TEMPERATURE               \n",
      "BS        MM    200.0   BIT SIZE                              \n",
      "FD        K/M3  1000.0  FLUID DENSITY                         \n",
      "MATR            0.0     NEUTRON MATRIX(0=LIME,1=SAND,2=DOLO)  \n",
      "MDEN            2710.0  LOGGING MATRIX DENSITY                \n",
      "RMF       OHMM  0.216   MUD FILTRATE RESISTIVITY              \n",
      "DFD       K/M3  1525.0  DRILL FLUID DENSITY                   \n"
     ]
    }
   ],
   "source": [
    "print l.sections['Parameter']"
   ]
  },
  {
   "cell_type": "code",
   "execution_count": null,
   "metadata": {
    "collapsed": true
   },
   "outputs": [],
   "source": []
  }
 ],
 "metadata": {
  "kernelspec": {
   "display_name": "Python 2",
   "language": "python",
   "name": "python2"
  },
  "language_info": {
   "codemirror_mode": {
    "name": "ipython",
    "version": 2
   },
   "file_extension": ".py",
   "mimetype": "text/x-python",
   "name": "python",
   "nbconvert_exporter": "python",
   "pygments_lexer": "ipython2",
   "version": "2.7.11"
  }
 },
 "nbformat": 4,
 "nbformat_minor": 0
}
