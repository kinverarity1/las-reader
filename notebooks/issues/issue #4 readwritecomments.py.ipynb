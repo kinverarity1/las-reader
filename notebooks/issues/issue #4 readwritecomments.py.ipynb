{
 "cells": [
  {
   "cell_type": "code",
   "execution_count": 2,
   "metadata": {
    "collapsed": true
   },
   "outputs": [],
   "source": [
    "from cStringIO import StringIO\n",
    "import lasio"
   ]
  },
  {
   "cell_type": "code",
   "execution_count": 5,
   "metadata": {
    "collapsed": false
   },
   "outputs": [
    {
     "name": "stdout",
     "output_type": "stream",
     "text": [
      "~Version ---------------------------------------------------\n",
      "VERS.     2.0 : CWLS log ASCII Standard -VERSION 2.0\n",
      "WRAP.      NO : ONE LINE PER DEPTH STEP\n",
      "~Well ------------------------------------------------------\n",
      "STRT.M                            1670.0 : \n",
      "STOP.M                           1669.75 : \n",
      "STEP.M                            -0.125 : \n",
      "NULL.                            -999.25 : \n",
      "COMP.             # ANY OIL COMPANY LTD. : COMPANY\n",
      "WELL.             ANY ET AL OIL WELL #12 : WELL\n",
      "FLD .                               EDAM : FIELD\n",
      "LOC .                     A9-16-49-20W3M : LOCATION\n",
      "PROV.                       SASKATCHEWAN : PROVINCE\n",
      "SRVC.     ANY LOGGING COMPANY AT ALL!!!! : SERVICE COMPANY\n",
      "DATE.                        25-DEC-1988 : LOG DATE\n",
      "UWI .                   100091604920W300 : UNIQUE WELL ID\n",
      "~Curves ----------------------------------------------------\n",
      "DEPT.M         : 1  DEPTH\n",
      "DT  .US/M      : 2  SONIC TRANSIT TIME\n",
      "RHOB.K/M3      : 3  BULK DENSITY\n",
      "NPHI.V/V       : 4   NEUTRON POROSITY\n",
      "SFLU.OHMM      : 5  RXO RESISTIVITY\n",
      "SFLA.OHMM      : 6  SHALLOW RESISTIVITY\n",
      "ILM .OHMM      : 7  MEDIUM RESISTIVITY\n",
      "ILD .OHMM      : 8  DEEP RESISTIVITY\n",
      "~Params ----------------------------------------------------\n",
      "~Other -----------------------------------------------------\n",
      "~ASCII -----------------------------------------------------\n",
      "       1670     123.45       2550       0.45     123.45     123.45      110.2      105.6\n",
      "    1669.88     123.45       2550       0.45     123.45     123.45      110.2      105.6\n",
      "    1669.75     123.45       2550       0.45     123.45     123.45      110.2      105.6\n",
      "\n"
     ]
    }
   ],
   "source": [
    "l = lasio.read(\"/home/dewnrgeophysics/software/lasio/lasio/test_examples/sample_write_empty_params.las\")\n",
    "s = StringIO()\n",
    "l.write(s, 2, fmt=\"%10g\")\n",
    "s.seek(0)\n",
    "print s.read()"
   ]
  },
  {
   "cell_type": "code",
   "execution_count": null,
   "metadata": {
    "collapsed": true
   },
   "outputs": [],
   "source": []
  }
 ],
 "metadata": {
  "kernelspec": {
   "display_name": "Python 2",
   "language": "python",
   "name": "python2"
  },
  "language_info": {
   "codemirror_mode": {
    "name": "ipython",
    "version": 2
   },
   "file_extension": ".py",
   "mimetype": "text/x-python",
   "name": "python",
   "nbconvert_exporter": "python",
   "pygments_lexer": "ipython2",
   "version": "2.7.6"
  }
 },
 "nbformat": 4,
 "nbformat_minor": 0
}
